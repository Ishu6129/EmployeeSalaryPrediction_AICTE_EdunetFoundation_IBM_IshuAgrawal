{
 "cells": [
  {
   "cell_type": "markdown",
   "id": "88e72baa-a6cb-4dd8-bc3e-0e36cf9a3df3",
   "metadata": {},
   "source": [
    "<h3>Libraries to import </h3>"
   ]
  },
  {
   "cell_type": "code",
   "execution_count": 66,
   "id": "97f02d15-02c1-428a-b51d-e233fd93b32a",
   "metadata": {},
   "outputs": [],
   "source": [
    "import pandas as pd\n",
    "import matplotlib.pyplot as plt\n",
    "from sklearn.preprocessing import LabelEncoder, StandardScaler\n",
    "from sklearn.model_selection import train_test_split\n",
    "from sklearn.pipeline import Pipeline\n",
    "from sklearn.metrics import accuracy_score,classification_report\n",
    "from sklearn.linear_model import LogisticRegression\n",
    "from sklearn.ensemble import RandomForestClassifier, GradientBoostingClassifier\n",
    "from sklearn.neighbors import KNeighborsClassifier\n",
    "from sklearn.svm import SVC\n",
    "import joblib"
   ]
  },
  {
   "cell_type": "markdown",
   "id": "87a43379-33d6-4e0c-a85a-fec561c102a2",
   "metadata": {},
   "source": [
    "<h3>Loading data</h3>"
   ]
  },
  {
   "cell_type": "code",
   "execution_count": 67,
   "id": "0b952505-0a23-4e02-af49-e6aad615af1f",
   "metadata": {},
   "outputs": [],
   "source": [
    "data = pd.read_csv(\"N:\\\\adult 3.csv\")"
   ]
  },
  {
   "cell_type": "code",
   "execution_count": 68,
   "id": "e830fa41-0ee0-42eb-8a85-ccf2391c4040",
   "metadata": {},
   "outputs": [
    {
     "data": {
      "text/plain": [
       "(48842, 15)"
      ]
     },
     "execution_count": 68,
     "metadata": {},
     "output_type": "execute_result"
    }
   ],
   "source": [
    "data.shape"
   ]
  },
  {
   "cell_type": "code",
   "execution_count": 69,
   "id": "b34eaac6-e1f0-4e55-8c4a-ce6d53449fb9",
   "metadata": {},
   "outputs": [
    {
     "data": {
      "text/plain": [
       "age                0\n",
       "workclass          0\n",
       "fnlwgt             0\n",
       "education          0\n",
       "educational-num    0\n",
       "marital-status     0\n",
       "occupation         0\n",
       "relationship       0\n",
       "race               0\n",
       "gender             0\n",
       "capital-gain       0\n",
       "capital-loss       0\n",
       "hours-per-week     0\n",
       "native-country     0\n",
       "income             0\n",
       "dtype: int64"
      ]
     },
     "execution_count": 69,
     "metadata": {},
     "output_type": "execute_result"
    }
   ],
   "source": [
    "data.isna().sum()"
   ]
  },
  {
   "cell_type": "code",
   "execution_count": 70,
   "id": "ed7def82-86fb-48ad-9fd2-b9e59e4b6198",
   "metadata": {},
   "outputs": [
    {
     "data": {
      "text/plain": [
       "workclass\n",
       "Private             33906\n",
       "Self-emp-not-inc     3862\n",
       "Local-gov            3136\n",
       "?                    2799\n",
       "State-gov            1981\n",
       "Self-emp-inc         1695\n",
       "Federal-gov          1432\n",
       "Without-pay            21\n",
       "Never-worked           10\n",
       "Name: count, dtype: int64"
      ]
     },
     "execution_count": 70,
     "metadata": {},
     "output_type": "execute_result"
    }
   ],
   "source": [
    "data.workclass.value_counts()"
   ]
  },
  {
   "cell_type": "code",
   "execution_count": 71,
   "id": "cc6f9881-5435-4bf8-81bc-e986ed2dfe17",
   "metadata": {},
   "outputs": [
    {
     "data": {
      "text/plain": [
       "education\n",
       "HS-grad         15784\n",
       "Some-college    10878\n",
       "Bachelors        8025\n",
       "Masters          2657\n",
       "Assoc-voc        2061\n",
       "11th             1812\n",
       "Assoc-acdm       1601\n",
       "10th             1389\n",
       "7th-8th           955\n",
       "Prof-school       834\n",
       "9th               756\n",
       "12th              657\n",
       "Doctorate         594\n",
       "5th-6th           509\n",
       "1st-4th           247\n",
       "Preschool          83\n",
       "Name: count, dtype: int64"
      ]
     },
     "execution_count": 71,
     "metadata": {},
     "output_type": "execute_result"
    }
   ],
   "source": [
    "data.education.value_counts()"
   ]
  },
  {
   "cell_type": "markdown",
   "id": "c1f392e3-8f87-4b41-9b97-a9cf7e1ccf5f",
   "metadata": {},
   "source": [
    "<h3>Data Cleaning</h3>"
   ]
  },
  {
   "cell_type": "code",
   "execution_count": 72,
   "id": "5a0ebf01-67ec-46ef-b5dd-ab0c66fbed33",
   "metadata": {},
   "outputs": [],
   "source": [
    "data=data[data[\"workclass\"]!=\"Without-pay\"]\n",
    "data=data[data[\"workclass\"]!=\"Never-worked\"]"
   ]
  },
  {
   "cell_type": "code",
   "execution_count": 73,
   "id": "6f004be5-6e16-4011-bdf0-05df379c5604",
   "metadata": {},
   "outputs": [],
   "source": [
    "data=data[data.education!=\"Preschool\"]\n",
    "data=data[data.education!=\"1st-4th\"]\n",
    "data=data[data.education!=\"5th-6th\"]"
   ]
  },
  {
   "cell_type": "code",
   "execution_count": 74,
   "id": "2bf4e2ba-3018-4826-b941-65d7857a6fca",
   "metadata": {},
   "outputs": [],
   "source": [
    "data.drop(columns='education',inplace=True)"
   ]
  },
  {
   "cell_type": "code",
   "execution_count": 75,
   "id": "492b9e72-4d19-47a2-99eb-874a11c5ede8",
   "metadata": {},
   "outputs": [
    {
     "data": {
      "image/png": "[encoded data removed]",
      "text/plain": [
       "<Figure size 640x480 with 1 Axes>"
      ]
     },
     "metadata": {},
     "output_type": "display_data"
    }
   ],
   "source": [
    "plt.boxplot(data[\"age\"])\n",
    "plt.show()"
   ]
  },
  {
   "cell_type": "code",
   "execution_count": 76,
   "id": "cab98850-1171-41c3-b25d-f53babcf78e2",
   "metadata": {},
   "outputs": [],
   "source": [
    "data =data[(data.age<=75)&(data.age>=17)]"
   ]
  },
  {
   "cell_type": "markdown",
   "id": "3c5da03e-e103-4bcb-81bd-a86b02a5fdc3",
   "metadata": {},
   "source": [
    "<h3>Encoding</h3>"
   ]
  },
  {
   "cell_type": "code",
   "execution_count": 77,
   "id": "f79c0cd8-86aa-4fdf-bcca-833fec39da87",
   "metadata": {},
   "outputs": [],
   "source": [
    "encoder=LabelEncoder()\n",
    "data[\"workclass\"]=encoder.fit_transform(data[\"workclass\"])\n",
    "data[\"marital-status\"]=encoder.fit_transform(data[\"marital-status\"])\n",
    "data[\"occupation\"]=encoder.fit_transform(data[\"occupation\"])\n",
    "data[\"relationship\"]=encoder.fit_transform(data[\"relationship\"])\n",
    "data[\"race\"]=encoder.fit_transform(data[\"race\"])\n",
    "data[\"gender\"]=encoder.fit_transform(data[\"gender\"])\n",
    "data[\"native-country\"]=encoder.fit_transform(data[\"native-country\"])"
   ]
  },
  {
   "cell_type": "markdown",
   "id": "3a84e6d5-bb16-4120-b650-7f86a2fc6591",
   "metadata": {},
   "source": [
    "<h3>Split Data</h3>"
   ]
  },
  {
   "cell_type": "code",
   "execution_count": 78,
   "id": "54b9ebd6-ab07-448e-a6e2-f1ceb92b5953",
   "metadata": {},
   "outputs": [],
   "source": [
    "X = data.drop(columns=\"income\")\n",
    "y = data[\"income\"]\n",
    "X_train, X_test, y_train, y_test = train_test_split(X, y, test_size=0.2, random_state=42, stratify=y)"
   ]
  },
  {
   "cell_type": "markdown",
   "id": "a43ad331-3956-447b-bbc6-9d7edcfd4a02",
   "metadata": {},
   "source": [
    "<h3>Training models through pipeline library</h3>"
   ]
  },
  {
   "cell_type": "code",
   "execution_count": 79,
   "id": "d4428652-ba30-478a-bde8-3fb1c0a702b2",
   "metadata": {},
   "outputs": [
    {
     "name": "stdout",
     "output_type": "stream",
     "text": [
      "LogisticRegression Accuracy: 0.8249\n",
      "              precision    recall  f1-score   support\n",
      "\n",
      "       <=50K       0.84      0.94      0.89      7206\n",
      "        >50K       0.72      0.46      0.56      2318\n",
      "\n",
      "    accuracy                           0.82      9524\n",
      "   macro avg       0.78      0.70      0.73      9524\n",
      "weighted avg       0.81      0.82      0.81      9524\n",
      "\n",
      "RandomForest Accuracy: 0.8616\n",
      "              precision    recall  f1-score   support\n",
      "\n",
      "       <=50K       0.89      0.94      0.91      7206\n",
      "        >50K       0.76      0.63      0.69      2318\n",
      "\n",
      "    accuracy                           0.86      9524\n",
      "   macro avg       0.82      0.78      0.80      9524\n",
      "weighted avg       0.86      0.86      0.86      9524\n",
      "\n",
      "KNN Accuracy: 0.8319\n",
      "              precision    recall  f1-score   support\n",
      "\n",
      "       <=50K       0.88      0.91      0.89      7206\n",
      "        >50K       0.67      0.60      0.63      2318\n",
      "\n",
      "    accuracy                           0.83      9524\n",
      "   macro avg       0.77      0.75      0.76      9524\n",
      "weighted avg       0.83      0.83      0.83      9524\n",
      "\n",
      "SVM Accuracy: 0.8523\n",
      "              precision    recall  f1-score   support\n",
      "\n",
      "       <=50K       0.87      0.95      0.91      7206\n",
      "        >50K       0.78      0.55      0.65      2318\n",
      "\n",
      "    accuracy                           0.85      9524\n",
      "   macro avg       0.82      0.75      0.78      9524\n",
      "weighted avg       0.85      0.85      0.84      9524\n",
      "\n",
      "GradientBoosting Accuracy: 0.8675\n",
      "              precision    recall  f1-score   support\n",
      "\n",
      "       <=50K       0.88      0.95      0.92      7206\n",
      "        >50K       0.80      0.61      0.69      2318\n",
      "\n",
      "    accuracy                           0.87      9524\n",
      "   macro avg       0.84      0.78      0.80      9524\n",
      "weighted avg       0.86      0.87      0.86      9524\n",
      "\n"
     ]
    }
   ],
   "source": [
    "models = {\n",
    "    \"LogisticRegression\": LogisticRegression(),\n",
    "    \"RandomForest\": RandomForestClassifier(),\n",
    "    \"KNN\": KNeighborsClassifier(),\n",
    "    \"SVM\": SVC(),\n",
    "    \"GradientBoosting\": GradientBoostingClassifier()\n",
    "}\n",
    "\n",
    "results = {}\n",
    "\n",
    "for name, model in models.items():\n",
    "    pipe = Pipeline([\n",
    "        ('scaler', StandardScaler()),\n",
    "        ('model', model)\n",
    "    ])\n",
    "    \n",
    "    pipe.fit(X_train, y_train)\n",
    "    y_pred = pipe.predict(X_test)\n",
    "    acc = accuracy_score(y_test, y_pred)\n",
    "    results[name] = acc\n",
    "    print(f\"{name} Accuracy: {acc:.4f}\")\n",
    "    print(classification_report(y_test, y_pred))"
   ]
  },
  {
   "cell_type": "markdown",
   "id": "2f750f10-b472-4c0b-8ce7-682763cd9e66",
   "metadata": {},
   "source": [
    "<h3>Visulaization</h3>"
   ]
  },
  {
   "cell_type": "code",
   "execution_count": 80,
   "id": "b681f2d5-2cf8-4134-8463-914f0ec882e6",
   "metadata": {},
   "outputs": [
    {
     "data": {
      "image/png": "[encoded data removed]",
      "text/plain": [
       "<Figure size 1000x500 with 1 Axes>"
      ]
     },
     "metadata": {},
     "output_type": "display_data"
    }
   ],
   "source": [
    "plt.figure(figsize=(10, 5))\n",
    "plt.bar(results.keys(), results.values(), color=['blue', 'green', 'orange', 'red', 'purple'])\n",
    "plt.title(\"Model Accuracy Comparison\")\n",
    "plt.xlabel(\"Models\")\n",
    "plt.ylabel(\"Accuracy\")\n",
    "plt.ylim(0.7, 0.9)\n",
    "plt.xticks(rotation=45)\n",
    "plt.grid(axis='y')\n",
    "plt.show()\n"
   ]
  },
  {
   "cell_type": "markdown",
   "id": "c8de9e27-764b-4e9e-8860-30693a767312",
   "metadata": {},
   "source": [
    "<h3>Making Pkl file for best Model</h3>"
   ]
  },
  {
   "cell_type": "code",
   "execution_count": 81,
   "id": "f3a9a0c8-22c1-437d-87b8-a4534fe08e3c",
   "metadata": {},
   "outputs": [
    {
     "name": "stdout",
     "output_type": "stream",
     "text": [
      "\n",
      "✅ Best model: GradientBoosting with accuracy 0.8675\n",
      "✅ Saved best model as best_model.pkl\n"
     ]
    }
   ],
   "source": [
    "best_model_name = max(results, key=results.get)\n",
    "best_model = models[best_model_name]\n",
    "print(f\"\\n✅ Best model: {best_model_name} with accuracy {results[best_model_name]:.4f}\")\n",
    "\n",
    "# Save the best model\n",
    "joblib.dump(best_model, \"best_model.pkl\")\n",
    "print(\"✅ Saved best model as best_model.pkl\")"
   ]
  },
  {
   "cell_type": "markdown",
   "id": "9a853e78-a85a-441e-bec5-4540ec8dd90c",
   "metadata": {},
   "source": [
    "<h3>Making of Streamlit Application</h3>"
   ]
  },
  {
   "cell_type": "code",
   "execution_count": 96,
   "id": "f3e06810-81dd-4054-805e-e3844ee8fdf9",
   "metadata": {},
   "outputs": [
    {
     "name": "stdout",
     "output_type": "stream",
     "text": [
      "Overwriting app.py\n"
     ]
    }
   ],
   "source": [
    "%%writefile app.py\n",
    "import streamlit as st\n",
    "import pandas as pd\n",
    "import joblib\n",
    "from sklearn.preprocessing import LabelEncoder\n",
    "\n",
    "# Loading model\n",
    "model = joblib.load(\"best_model.pkl\")\n",
    "\n",
    "# Mapping features values as we have encoded these values while model training\n",
    "education_map = {\n",
    "    \"HS-grad\":0, \"Some-college\":1, \"Bachelors\":2, \"Masters\":3,\n",
    "    \"Assoc-voc\":4, \"11th\":5, \"Assoc-acdm\":6, \"10th\":7, \"7th-8th\":8,\n",
    "    \"Prof-school\":9, \"9th\":10, \"12th\":11, \"Doctorate\":12\n",
    "}\n",
    "\n",
    "workclass_list = [\"Private\",\"Self-emp-not-inc\",\"Local-gov\",\"State-gov\",\"Federal-gov\"]\n",
    "marital_list = [\"Married-civ-spouse\",\"Divorced\",\"Never-married\",\"Separated\",\"Widowed\"]\n",
    "occupation_list = [\"Tech-support\",\"Craft-repair\",\"Other-service\",\"Sales\",\n",
    "                 \"Exec-managerial\",\"Prof-specialty\",\"Handlers-cleaners\",\n",
    "                 \"Machine-op-inspct\",\"Adm-clerical\",\"Farming-fishing\",\n",
    "                 \"Transport-moving\",\"Priv-house-serv\",\"Protective-serv\",\"Armed-Forces\"]\n",
    "relationship_list = [\"Husband\",\"Wife\",\"Not-in-family\",\"Other-relative\"]\n",
    "race_list = [\"White\",\"Black\",\"Asian-Pac-Islander\",\"Amer-Indian-Eskimo\",\"Other\"]\n",
    "country_list = [\"United-States\",\"Mexico\",\"Philippines\",\"Germany\",\"Canada\"]\n",
    "\n",
    "# Encoders\n",
    "workclass_enc = LabelEncoder().fit(workclass_list)\n",
    "marital_enc = LabelEncoder().fit(marital_list)\n",
    "occupation_enc = LabelEncoder().fit(occupation_list)\n",
    "relationship_enc = LabelEncoder().fit(relationship_list)\n",
    "race_enc = LabelEncoder().fit(race_list)\n",
    "country_enc = LabelEncoder().fit(country_list)\n",
    "\n",
    "\n",
    "st.set_page_config(page_title=\"Income Predictor\", page_icon=\"💰\", layout=\"centered\")\n",
    "st.title(\"💰 Income Predictor\")\n",
    "st.write(\"Predict whether annual income exceeds $50K\")\n",
    "\n",
    "# Sidebar\n",
    "with st.sidebar:\n",
    "    st.header(\"Personal Details\")\n",
    "    age = st.slider(\"Age\", 17, 75, 30)\n",
    "    workclass = st.selectbox(\"Work Class\", workclass_list)\n",
    "    education = st.selectbox(\"Education Level\", list(education_map.keys()))\n",
    "    marital = st.selectbox(\"Marital Status\", marital_list)\n",
    "    occupation = st.selectbox(\"Occupation\", occupation_list)\n",
    "    relationship = st.selectbox(\"Relationship\", relationship_list)\n",
    "    race = st.selectbox(\"Race\", race_list)\n",
    "    gender = st.selectbox(\"Gender\", [\"Male\",\"Female\"])\n",
    "    capital_gain = st.number_input(\"Capital Gain\", 0, 100000, 0)\n",
    "    capital_loss = st.number_input(\"Capital Loss\", 0, 10000, 0)\n",
    "    hours = st.slider(\"Hours per Week\", 1, 100, 40)\n",
    "    country = st.selectbox(\"Native Country\", country_list)\n",
    "    fnlwgt = st.number_input(\"Final Weight (fnlwgt)\", 10000, 1000000, 200000)\n",
    "\n",
    "# Main Screen\n",
    "st.subheader(\"Your Input Summary\")\n",
    "input_summary = pd.DataFrame({\n",
    "    \"Feature\": [\"Age\", \"Work Class\", \"Education\", \"Marital Status\", \"Occupation\",\n",
    "               \"Relationship\", \"Race\", \"Gender\", \"Capital Gain\", \"Capital Loss\",\n",
    "               \"Hours/Week\", \"Country\", \"Final Weight\"],\n",
    "    \"Value\": [age, workclass, education, marital, occupation,\n",
    "             relationship, race, gender, capital_gain, capital_loss,\n",
    "             hours, country, fnlwgt]\n",
    "})\n",
    "st.table(input_summary)\n",
    "\n",
    "# Prediction\n",
    "if st.button(\"Predict Income\"):\n",
    "    input_data = {\n",
    "        'age': age,\n",
    "        'workclass': workclass_enc.transform([workclass])[0],\n",
    "        'fnlwgt': fnlwgt,\n",
    "        'education': education_map[education],\n",
    "        'marital-status': marital_enc.transform([marital])[0],\n",
    "        'occupation': occupation_enc.transform([occupation])[0],\n",
    "        'relationship': relationship_enc.transform([relationship])[0],\n",
    "        'race': race_enc.transform([race])[0],\n",
    "        'gender': 1 if gender == \"Male\" else 0,\n",
    "        'capital-gain': capital_gain,\n",
    "        'capital-loss': capital_loss,\n",
    "        'hours-per-week': hours,\n",
    "        'native-country': country_enc.transform([country])[0]\n",
    "    }\n",
    "    \n",
    "    prediction = model.predict(pd.DataFrame([input_data]))\n",
    "    proba = model.predict_proba(pd.DataFrame([input_data]))[0]\n",
    "    \n",
    "    st.subheader(\"Prediction Result\")\n",
    "    if prediction[0] == \">50K\":\n",
    "        st.success(f\"✅ High Earner (>$50K) with {proba[1]*100:.1f}% confidence\")\n",
    "    else:\n",
    "        st.info(f\"💼 Moderate Earner (≤$50K) with {proba[0]*100:.1f}% confidence\")\n",
    "\n",
    "st.caption(\"Model accuracy: ~86.7%\")"
   ]
  },
  {
   "cell_type": "code",
   "execution_count": 97,
   "id": "19508daa-fd2e-4d3e-8b7c-4ffb399dba50",
   "metadata": {},
   "outputs": [
    {
     "name": "stdout",
     "output_type": "stream",
     "text": [
      "^C\n"
     ]
    }
   ],
   "source": [
    "!streamlit run app.py"
   ]
  },
  {
   "cell_type": "code",
   "execution_count": null,
   "id": "7bacb253-2fb6-435c-997b-5440ed52cf22",
   "metadata": {},
   "outputs": [],
   "source": []
  }
 ],
 "metadata": {
  "kernelspec": {
   "display_name": "Python 3 (ipykernel)",
   "language": "python",
   "name": "python3"
  },
  "language_info": {
   "codemirror_mode": {
    "name": "ipython",
    "version": 3
   },
   "file_extension": ".py",
   "mimetype": "text/x-python",
   "name": "python",
   "nbconvert_exporter": "python",
   "pygments_lexer": "ipython3",
   "version": "3.11.9"
  }
 },
 "nbformat": 4,
 "nbformat_minor": 5
}
